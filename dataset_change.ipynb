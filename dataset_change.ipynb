{
 "cells": [
  {
   "cell_type": "code",
   "execution_count": 1,
   "metadata": {},
   "outputs": [],
   "source": [
    "import pandas as pd\n",
    "import numpy as np"
   ]
  },
  {
   "cell_type": "code",
   "execution_count": 2,
   "metadata": {},
   "outputs": [],
   "source": [
    "df_product = pd.read_csv('data/df_product.csv')\n",
    "df_demo = pd.read_csv('data/df_demo.csv') # Users' demographics data\n",
    "\n",
    "df_visit = pd.read_csv('data/df_visit.csv')\n",
    "df_basket = pd.read_csv('data/df_basket.csv')\n",
    "df_fav = pd.read_csv('data/df_fav.csv')\n",
    "df_trx = pd.read_csv('data/df_trx.csv')\n",
    "\n",
    "df_search_term = pd.read_csv('data/df_search_term.csv')"
   ]
  },
  {
   "cell_type": "code",
   "execution_count": null,
   "metadata": {},
   "outputs": [],
   "source": [
    "df_target_train = pd.read_csv('data/df_target_train.csv')\n",
    "df_test = pd.read_csv('data/df_test.csv')"
   ]
  }
 ],
 "metadata": {
  "kernelspec": {
   "display_name": "Python 3",
   "language": "python",
   "name": "python3"
  },
  "language_info": {
   "codemirror_mode": {
    "name": "ipython",
    "version": 3
   },
   "file_extension": ".py",
   "mimetype": "text/x-python",
   "name": "python",
   "nbconvert_exporter": "python",
   "pygments_lexer": "ipython3",
   "version": "3.8.18"
  }
 },
 "nbformat": 4,
 "nbformat_minor": 2
}
