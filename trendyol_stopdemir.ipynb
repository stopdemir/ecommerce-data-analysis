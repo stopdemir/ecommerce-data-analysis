{
 "cells": [
  {
   "cell_type": "markdown",
   "metadata": {},
   "source": [
    "# Ecommerce Data Analysis"
   ]
  },
  {
   "cell_type": "markdown",
   "metadata": {},
   "source": [
    "Lorem Ipsum. Lorem Ipsum. Lorem Ipsum. Lorem Ipsum. Lorem Ipsum. Lorem Ipsum. Lorem Ipsum. Lorem Ipsum. Lorem Ipsum. Lorem Ipsum. Lorem Ipsum. Lorem Ipsum"
   ]
  },
  {
   "cell_type": "markdown",
   "metadata": {},
   "source": [
    "## Libraries"
   ]
  },
  {
   "cell_type": "code",
   "execution_count": null,
   "metadata": {},
   "outputs": [],
   "source": [
    "import pandas as pd\n",
    "import numpy as np\n",
    "\n",
    "import seaborn as sns\n",
    "import matplotlib.pyplot as plt"
   ]
  },
  {
   "cell_type": "markdown",
   "metadata": {},
   "source": [
    "## Datasets"
   ]
  },
  {
   "cell_type": "code",
   "execution_count": 2,
   "metadata": {},
   "outputs": [],
   "source": [
    "# reading data\n",
    "df_product = pd.read_csv('data/df_product.csv')\n",
    "df_basket = pd.read_csv('data/df_basket.csv')\n",
    "df_demo = pd.read_csv('data/df_demo.csv') # Users' demographics data\n",
    "df_fav = pd.read_csv('data/df_fav.csv')\n",
    "df_search_term = pd.read_csv('data/df_search_term.csv')\n",
    "df_trx = pd.read_csv('data/df_trx.csv')\n",
    "df_visit = pd.read_csv('data/df_visit.csv')\n",
    "\n",
    "df_target_train = pd.read_csv('data/df_target_train.csv')\n",
    "df_test = pd.read_csv('data/df_test.csv')"
   ]
  },
  {
   "cell_type": "markdown",
   "metadata": {},
   "source": [
    "### df_product"
   ]
  },
  {
   "cell_type": "markdown",
   "metadata": {},
   "source": [
    "df_product: Products' information data\n",
    "\n",
    "- **contentid:** Unique ID given to the product.\n",
    "- **currentbugroupname:** Business Group Name (can be thought of as a broader category) of the product.\n",
    "- **brandid:** Unique ID given to the brand of the product.\n",
    "- **gender:** Target gender group of the product.\n",
    "- **age:** Target age group of the product.\n",
    "- **title:** Title of the product.\n",
    "- **categoryname:** Category name of the product."
   ]
  },
  {
   "cell_type": "code",
   "execution_count": 5,
   "metadata": {},
   "outputs": [
    {
     "data": {
      "text/html": [
       "<div>\n",
       "<style scoped>\n",
       "    .dataframe tbody tr th:only-of-type {\n",
       "        vertical-align: middle;\n",
       "    }\n",
       "\n",
       "    .dataframe tbody tr th {\n",
       "        vertical-align: top;\n",
       "    }\n",
       "\n",
       "    .dataframe thead th {\n",
       "        text-align: right;\n",
       "    }\n",
       "</style>\n",
       "<table border=\"1\" class=\"dataframe\">\n",
       "  <thead>\n",
       "    <tr style=\"text-align: right;\">\n",
       "      <th></th>\n",
       "      <th>contentid</th>\n",
       "      <th>currentbugroupname</th>\n",
       "      <th>brandid</th>\n",
       "      <th>gender</th>\n",
       "      <th>age</th>\n",
       "      <th>title</th>\n",
       "      <th>categoryname</th>\n",
       "    </tr>\n",
       "  </thead>\n",
       "  <tbody>\n",
       "    <tr>\n",
       "      <th>0</th>\n",
       "      <td>40100964</td>\n",
       "      <td>Ayakkabı &amp; Çanta</td>\n",
       "      <td>37787</td>\n",
       "      <td>Erkek</td>\n",
       "      <td>Yetişkin</td>\n",
       "      <td>Siyah Kauçuk Taban Büyük Numara Spor Ayakkab R...</td>\n",
       "      <td>Klasik Ayakkabı</td>\n",
       "    </tr>\n",
       "    <tr>\n",
       "      <th>1</th>\n",
       "      <td>40427970</td>\n",
       "      <td>Branded Tekstil</td>\n",
       "      <td>169</td>\n",
       "      <td>Kadın</td>\n",
       "      <td>Yetişkin</td>\n",
       "      <td>Kadın Siyah Çizgili Cepli Kuşaklı Pantolon</td>\n",
       "      <td>Pantolon</td>\n",
       "    </tr>\n",
       "    <tr>\n",
       "      <th>2</th>\n",
       "      <td>41026644</td>\n",
       "      <td>FMCG</td>\n",
       "      <td>20150</td>\n",
       "      <td>Unisex</td>\n",
       "      <td>Yetişkin</td>\n",
       "      <td>Color Growth Healt Formula (800-1200) 100gr Aç...</td>\n",
       "      <td>Akvaryum Balık Yemleri</td>\n",
       "    </tr>\n",
       "    <tr>\n",
       "      <th>3</th>\n",
       "      <td>41227029</td>\n",
       "      <td>Branded Tekstil</td>\n",
       "      <td>11806</td>\n",
       "      <td>Kadın</td>\n",
       "      <td>Yetişkin</td>\n",
       "      <td>Kadın  Pamuk Paçalı Ribana Külot B005</td>\n",
       "      <td>Külot</td>\n",
       "    </tr>\n",
       "    <tr>\n",
       "      <th>4</th>\n",
       "      <td>40770080</td>\n",
       "      <td>Ev</td>\n",
       "      <td>2195</td>\n",
       "      <td>Unisex</td>\n",
       "      <td>Yetişkin</td>\n",
       "      <td>Suki - Sushi Seti 8 Parça</td>\n",
       "      <td>Tabak</td>\n",
       "    </tr>\n",
       "    <tr>\n",
       "      <th>5</th>\n",
       "      <td>32196943</td>\n",
       "      <td>GAS</td>\n",
       "      <td>366101</td>\n",
       "      <td>Erkek</td>\n",
       "      <td>Yetişkin</td>\n",
       "      <td>Erkek Eşofman Altı -  S -</td>\n",
       "      <td>Spor Eşofman Altı</td>\n",
       "    </tr>\n",
       "    <tr>\n",
       "      <th>6</th>\n",
       "      <td>41767813</td>\n",
       "      <td>GM</td>\n",
       "      <td>17150</td>\n",
       "      <td>Unisex</td>\n",
       "      <td>Yetişkin</td>\n",
       "      <td>Hayati Inanç Can Veren Pervaneler Set 6 Kitap</td>\n",
       "      <td>Deneme - İnceleme</td>\n",
       "    </tr>\n",
       "    <tr>\n",
       "      <th>7</th>\n",
       "      <td>33011110</td>\n",
       "      <td>Branded Tekstil</td>\n",
       "      <td>877</td>\n",
       "      <td>Erkek</td>\n",
       "      <td>Yetişkin</td>\n",
       "      <td>Micro Dokuma Takım Elbise</td>\n",
       "      <td>Takım Elbise</td>\n",
       "    </tr>\n",
       "    <tr>\n",
       "      <th>8</th>\n",
       "      <td>41838807</td>\n",
       "      <td>Branded Tekstil</td>\n",
       "      <td>1220</td>\n",
       "      <td>Kadın</td>\n",
       "      <td>Yetişkin</td>\n",
       "      <td>V Yaka Bluz - Kiremit Çiçekli</td>\n",
       "      <td>Bluz</td>\n",
       "    </tr>\n",
       "    <tr>\n",
       "      <th>9</th>\n",
       "      <td>42791183</td>\n",
       "      <td>Branded Tekstil</td>\n",
       "      <td>710</td>\n",
       "      <td>Unisex</td>\n",
       "      <td>Yetişkin</td>\n",
       "      <td>Siyah Tek Kollu Askılı Uzun Abiye Elbise</td>\n",
       "      <td>Abiye &amp; Mezuniyet Elbisesi</td>\n",
       "    </tr>\n",
       "  </tbody>\n",
       "</table>\n",
       "</div>"
      ],
      "text/plain": [
       "   contentid currentbugroupname  brandid  gender       age  \\\n",
       "0   40100964   Ayakkabı & Çanta    37787   Erkek  Yetişkin   \n",
       "1   40427970    Branded Tekstil      169   Kadın  Yetişkin   \n",
       "2   41026644               FMCG    20150  Unisex  Yetişkin   \n",
       "3   41227029    Branded Tekstil    11806   Kadın  Yetişkin   \n",
       "4   40770080                 Ev     2195  Unisex  Yetişkin   \n",
       "5   32196943                GAS   366101   Erkek  Yetişkin   \n",
       "6   41767813                 GM    17150  Unisex  Yetişkin   \n",
       "7   33011110    Branded Tekstil      877   Erkek  Yetişkin   \n",
       "8   41838807    Branded Tekstil     1220   Kadın  Yetişkin   \n",
       "9   42791183    Branded Tekstil      710  Unisex  Yetişkin   \n",
       "\n",
       "                                               title  \\\n",
       "0  Siyah Kauçuk Taban Büyük Numara Spor Ayakkab R...   \n",
       "1         Kadın Siyah Çizgili Cepli Kuşaklı Pantolon   \n",
       "2  Color Growth Healt Formula (800-1200) 100gr Aç...   \n",
       "3              Kadın  Pamuk Paçalı Ribana Külot B005   \n",
       "4                          Suki - Sushi Seti 8 Parça   \n",
       "5                          Erkek Eşofman Altı -  S -   \n",
       "6      Hayati Inanç Can Veren Pervaneler Set 6 Kitap   \n",
       "7                          Micro Dokuma Takım Elbise   \n",
       "8                      V Yaka Bluz - Kiremit Çiçekli   \n",
       "9           Siyah Tek Kollu Askılı Uzun Abiye Elbise   \n",
       "\n",
       "                 categoryname  \n",
       "0             Klasik Ayakkabı  \n",
       "1                    Pantolon  \n",
       "2      Akvaryum Balık Yemleri  \n",
       "3                       Külot  \n",
       "4                       Tabak  \n",
       "5           Spor Eşofman Altı  \n",
       "6           Deneme - İnceleme  \n",
       "7                Takım Elbise  \n",
       "8                        Bluz  \n",
       "9  Abiye & Mezuniyet Elbisesi  "
      ]
     },
     "execution_count": 5,
     "metadata": {},
     "output_type": "execute_result"
    }
   ],
   "source": [
    "df_product.head(10)"
   ]
  },
  {
   "cell_type": "code",
   "execution_count": 10,
   "metadata": {},
   "outputs": [
    {
     "data": {
      "image/png": "[encoded data removed]",
      "text/plain": [
       "<Figure size 200x200 with 1 Axes>"
      ]
     },
     "metadata": {},
     "output_type": "display_data"
    },
    {
     "data": {
      "image/png": "[encoded data removed]",
      "text/plain": [
       "<Figure size 200x200 with 1 Axes>"
      ]
     },
     "metadata": {},
     "output_type": "display_data"
    },
    {
     "data": {
      "image/png": "[encoded data removed]",
      "text/plain": [
       "<Figure size 200x200 with 1 Axes>"
      ]
     },
     "metadata": {},
     "output_type": "display_data"
    }
   ],
   "source": [
    "categorical_columns = df_product.columns[df_product.dtypes == 'object'].values\n",
    "for i, cat_col in enumerate(categorical_columns, 1):\n",
    "    #print(df_product[[cat_col]].value_counts(dropna=False), '\\n')\n",
    "    \n",
    "    if df_product[cat_col].nunique() < 50:\n",
    "        sns.catplot(x = cat_col, kind=\"count\", data = df_product)\n",
    "        plt.xticks(rotation=-90)\n",
    "        plt.show()\n",
    "    # print(\"\\n*************************\\n\")"
   ]
  },
  {
   "cell_type": "code",
   "execution_count": 9,
   "metadata": {},
   "outputs": [
    {
     "name": "stdout",
     "output_type": "stream",
     "text": [
      "number of business group name:  1661\n",
      "\n",
      "['Deneme - İnceleme' 'Sınav Hazırlık' 'Masa Tenisi Raketi' ...\n",
      " 'Cam Suyu Bidonu' 'Köpek Eğitim Ürünleri' 'Silindir Kapakları']\n"
     ]
    }
   ],
   "source": [
    "v = df_product[df_product['currentbugroupname'] == \"GM\"]\n",
    "print(\"number of business group name: \", v[\"categoryname\"].nunique())\n",
    "print()\n",
    "print(v[\"categoryname\"].unique())"
   ]
  },
  {
   "cell_type": "code",
   "execution_count": 10,
   "metadata": {},
   "outputs": [
    {
     "name": "stdout",
     "output_type": "stream",
     "text": [
      "<class 'pandas.core.frame.DataFrame'>\n",
      "RangeIndex: 27086 entries, 0 to 27085\n",
      "Data columns (total 2 columns):\n",
      " #   Column              Non-Null Count  Dtype \n",
      "---  ------              --------------  ----- \n",
      " 0   userid              27086 non-null  int64 \n",
      " 1   currentbugroupname  24734 non-null  object\n",
      "dtypes: int64(1), object(1)\n",
      "memory usage: 423.3+ KB\n"
     ]
    }
   ],
   "source": [
    "df_target_train.info()"
   ]
  },
  {
   "cell_type": "code",
   "execution_count": 9,
   "metadata": {},
   "outputs": [
    {
     "name": "stdout",
     "output_type": "stream",
     "text": [
      "test:  244836\n",
      "sd\n",
      "train:  27086\n"
     ]
    }
   ],
   "source": [
    "print(\"test: \", len(df_test))\n",
    "print(\"sd\")\n",
    "print(\"train: \", len(df_target_train))"
   ]
  },
  {
   "cell_type": "code",
   "execution_count": 10,
   "metadata": {},
   "outputs": [
    {
     "data": {
      "text/plain": [
       "20402"
      ]
     },
     "execution_count": 10,
     "metadata": {},
     "output_type": "execute_result"
    }
   ],
   "source": [
    "df_target_train[\"userid\"].nunique()"
   ]
  },
  {
   "cell_type": "code",
   "execution_count": 11,
   "metadata": {},
   "outputs": [
    {
     "data": {
      "text/plain": [
       "20403"
      ]
     },
     "execution_count": 11,
     "metadata": {},
     "output_type": "execute_result"
    }
   ],
   "source": [
    "df_test[\"userid\"].nunique()"
   ]
  },
  {
   "cell_type": "code",
   "execution_count": 8,
   "metadata": {},
   "outputs": [
    {
     "name": "stdout",
     "output_type": "stream",
     "text": [
      "12.0\n"
     ]
    }
   ],
   "source": [
    "d = 244836/20403\n",
    "print(d)"
   ]
  },
  {
   "cell_type": "code",
   "execution_count": 12,
   "metadata": {},
   "outputs": [
    {
     "name": "stdout",
     "output_type": "stream",
     "text": [
      "Shape: (40807, 4)\n",
      "number of duplicated rows: 0 \n",
      "\n",
      "     userid gender   age  tenure\n",
      "0   9798852  Bayan  41.0      89\n",
      "1  11413556  Bayan  33.0      61\n",
      "2    818188  Bayan  32.0     125\n",
      "3  12049002  Bayan  30.0      54\n",
      "4  10083038  Bayan  39.0      84 \n",
      "\n",
      "userid    40807\n",
      "gender        4\n",
      "age          97\n",
      "tenure      130\n",
      "dtype: int64\n",
      "\n",
      "---- gender ----\n",
      "gender\n",
      "Bayan               31202\n",
      "Bay                  9378\n",
      "UNKNOWN               218\n",
      "kvkktalepsilindi        9\n",
      "Name: count, dtype: int64\n",
      "\n",
      "*************************\n",
      "\n",
      "<class 'pandas.core.frame.DataFrame'>\n",
      "RangeIndex: 40807 entries, 0 to 40806\n",
      "Data columns (total 4 columns):\n",
      " #   Column  Non-Null Count  Dtype  \n",
      "---  ------  --------------  -----  \n",
      " 0   userid  40807 non-null  int64  \n",
      " 1   gender  40807 non-null  object \n",
      " 2   age     25204 non-null  float64\n",
      " 3   tenure  40807 non-null  int64  \n",
      "dtypes: float64(1), int64(2), object(1)\n",
      "memory usage: 1.2+ MB\n",
      "None\n",
      "\n",
      "---- MISSING VALUE RATIOS ----\n",
      "userid    0.000000\n",
      "gender    0.000000\n",
      "age       0.382361\n",
      "tenure    0.000000\n",
      "dtype: float64\n",
      "\n",
      "*************************\n",
      "\n",
      "Median age: 35.0\n",
      "Median tenure: 24.0 \n",
      "\n",
      "             userid           age        tenure\n",
      "count  4.080700e+04  25204.000000  40807.000000\n",
      "mean   1.922032e+07    214.540351     41.772269\n",
      "std    1.127785e+07    545.518265     39.807200\n",
      "min    2.086000e+03    -48.000000      0.000000\n",
      "25%    1.106792e+07     27.000000     11.000000\n",
      "50%    1.753366e+07     35.000000     24.000000\n",
      "75%    2.722423e+07    120.000000     66.000000\n",
      "max    4.462565e+07   2019.000000    129.000000\n",
      "\n",
      "*************************\n",
      "\n"
     ]
    },
    {
     "data": {
      "image/png": "[encoded data removed]",
      "text/plain": [
       "<Figure size 1600x400 with 2 Axes>"
      ]
     },
     "metadata": {},
     "output_type": "display_data"
    }
   ],
   "source": [
    "print(\"Shape:\", df_demo.shape)\n",
    "print(\"number of duplicated rows:\", df_demo[df_demo.duplicated()].shape[0],\"\\n\")\n",
    "print(df_demo.head(),\"\\n\")\n",
    "print(df_demo.nunique())\n",
    "print(\"\\n---- gender ----\")\n",
    "print(df_demo.gender.value_counts(dropna=False))\n",
    "print(\"\\n*************************\\n\")\n",
    "print(df_demo.info())\n",
    "missing_value_ratios = df_demo.isnull().mean()\n",
    "print(\"\\n---- MISSING VALUE RATIOS ----\")\n",
    "print(missing_value_ratios)\n",
    "print(\"\\n*************************\\n\")\n",
    "print(\"Median age:\", df_demo[\"age\"].median())\n",
    "print(\"Median tenure:\", df_demo[\"tenure\"].median(), \"\\n\")\n",
    "print(df_demo.describe())\n",
    "print(\"\\n*************************\\n\")\n",
    "df_demo[[\"age\", \"tenure\"]].hist(bins=50,figsize=(16,4),edgecolor = \"black\")\n",
    "plt.show()\n",
    "#df_demo[\"age\"].value_counts()"
   ]
  }
 ],
 "metadata": {
  "kernelspec": {
   "display_name": "Python 3",
   "language": "python",
   "name": "python3"
  },
  "language_info": {
   "codemirror_mode": {
    "name": "ipython",
    "version": 3
   },
   "file_extension": ".py",
   "mimetype": "text/x-python",
   "name": "python",
   "nbconvert_exporter": "python",
   "pygments_lexer": "ipython3",
   "version": "3.8.18"
  }
 },
 "nbformat": 4,
 "nbformat_minor": 4
}
